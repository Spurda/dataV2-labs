{
 "cells": [
  {
   "cell_type": "code",
   "execution_count": null,
   "metadata": {},
   "outputs": [],
   "source": [
    "numbers = {\n",
    "    'zero': 0,\n",
    "    'one': 1,\n",
    "    'two': 2,\n",
    "    'three': 3,\n",
    "    'four': 4,\n",
    "    'five': 5\n",
    "    'six': 6\n",
    "    'seven': 7\n",
    "    'eight':8\n",
    "    'nine':9\n",
    "    'ten':10}"
   ]
  },
  {
   "cell_type": "code",
   "execution_count": null,
   "metadata": {},
   "outputs": [],
   "source": [
    "#index?"
   ]
  },
  {
   "cell_type": "code",
   "execution_count": 1,
   "metadata": {},
   "outputs": [],
   "source": [
    "operators = ['plus', 'minus']"
   ]
  },
  {
   "cell_type": "code",
   "execution_count": 12,
   "metadata": {},
   "outputs": [],
   "source": [
    "def user_input():\n",
    "    \n",
    "    a = input('Please choose your first number (zero to five): ')\n",
    "    b = input('What do you want to do? plus or minus: ')\n",
    "    c = input('Please choose your second number (zero to five): ')\n",
    "    return numbers.index(a), b, numbers.index(c)"
   ]
  },
  {
   "cell_type": "code",
   "execution_count": 10,
   "metadata": {},
   "outputs": [],
   "source": [
    "def calculate(value_1, operator, value_2):\n",
    "    if operator == 'plus' or operator == '+':\n",
    "        return value_1 + value_2\n",
    "    elif operator == 'minus' or operator == '-':\n",
    "        return value_1 - value_2\n",
    "    else :\n",
    "        print(\"I am not able to answer this question. Check your input.\")\n",
    "        return calculate(value_1, operator, value_2)"
   ]
  },
  {
   "cell_type": "code",
   "execution_count": 16,
   "metadata": {},
   "outputs": [],
   "source": [
    "def calculator():\n",
    "    print('Welcome to this calculator!')\n",
    "    print('It can add and subtract whole numbers from zero to five')\n",
    "    a, b, c = user_input()\n",
    "    result = calculate(int(a), b, int(c))\n",
    "    print(result)\n",
    "    "
   ]
  },
  {
   "cell_type": "code",
   "execution_count": 17,
   "metadata": {},
   "outputs": [
    {
     "name": "stdout",
     "output_type": "stream",
     "text": [
      "Welcome to this calculator!\n",
      "It can add and subtract whole numbers from zero to five\n",
      "Please choose your first number (zero to five): zero\n",
      "What do you want to do? plus or minus: minus\n",
      "Please choose your second number (zero to five): five\n",
      "-5\n"
     ]
    }
   ],
   "source": [
    "calculator()"
   ]
  },
  {
   "cell_type": "code",
   "execution_count": 5,
   "metadata": {},
   "outputs": [],
   "source": [
    "#version viable"
   ]
  },
  {
   "cell_type": "code",
   "execution_count": 1,
   "metadata": {},
   "outputs": [],
   "source": [
    "operation_numbers = ['zero', 'one', 'two', 'three', 'four', 'five', 'six', 'seven', 'eight', 'nine', 'ten']\n",
    "operators = {\"plus\", \"minus\"}\n",
    "def take_input():\n",
    "    a = input('Please choose your first number (zero to five): ')\n",
    "    if a in operation_numbers[:5]:\n",
    "        b = input('What do you want to do? plus or minus: ')\n",
    "        if b in operators:\n",
    "            c = input('Please choose your second number (zero to five): ')\n",
    "            if c in operation_numbers[:5]:\n",
    "                return a, b, c\n",
    "            else:\n",
    "                print(\"I am not able to answer this question. Check your input.\")\n",
    "                return take_input()\n",
    "        else:\n",
    "            print(\"I am not able to answer this question. Check your input.\")\n",
    "            return take_input()\n",
    "    else:\n",
    "        print(\"I am not able to answer this question. Check your input.\")\n",
    "        return take_input()"
   ]
  },
  {
   "cell_type": "code",
   "execution_count": 2,
   "metadata": {},
   "outputs": [],
   "source": [
    "def calculate(first_value, operation, second_value):\n",
    "    if operation == \"plus\":\n",
    "        return first_value + second_value\n",
    "    elif operation == \"minus\":\n",
    "        return first_value - second_value"
   ]
  },
  {
   "cell_type": "code",
   "execution_count": 3,
   "metadata": {},
   "outputs": [],
   "source": [
    "def calculator():\n",
    "    print('Welcome to this calculator!')\n",
    "    print('It can add and subtract whole numbers from zero to five')\n",
    "    a, b, c = take_input()\n",
    "    result = calculate(operation_numbers.index(a), b, operation_numbers.index(c))\n",
    "    if operation_numbers.index(a) < operation_numbers.index(c):\n",
    "        print(a + \" \" + b + \" \" + c + \" equals negative \" + operation_numbers[abs(result)])\n",
    "    else:\n",
    "        print(a + \" \" + b + \" \" + c + \" equals \" + operation_numbers[result])"
   ]
  },
  {
   "cell_type": "code",
   "execution_count": 4,
   "metadata": {},
   "outputs": [
    {
     "name": "stdout",
     "output_type": "stream",
     "text": [
      "Welcome to this calculator!\n",
      "It can add and subtract whole numbers from zero to five\n",
      "Please choose your first number (zero to five): one\n",
      "What do you want to do? plus or minus: minus\n",
      "Please choose your second number (zero to five): four\n",
      "one minus four equals negative three\n"
     ]
    }
   ],
   "source": [
    "calculator()"
   ]
  },
  {
   "cell_type": "code",
   "execution_count": null,
   "metadata": {},
   "outputs": [],
   "source": []
  }
 ],
 "metadata": {
  "kernelspec": {
   "display_name": "Python 3",
   "language": "python",
   "name": "python3"
  },
  "language_info": {
   "codemirror_mode": {
    "name": "ipython",
    "version": 3
   },
   "file_extension": ".py",
   "mimetype": "text/x-python",
   "name": "python",
   "nbconvert_exporter": "python",
   "pygments_lexer": "ipython3",
   "version": "3.7.7"
  }
 },
 "nbformat": 4,
 "nbformat_minor": 4
}

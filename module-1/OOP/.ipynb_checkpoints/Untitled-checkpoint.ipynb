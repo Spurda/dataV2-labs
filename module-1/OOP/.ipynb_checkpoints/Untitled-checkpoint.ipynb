{
 "cells": [
  {
   "cell_type": "markdown",
   "metadata": {},
   "source": [
    "[Remove All The Marked Elements of a List](https://www.codewars.com/kata/remove-all-the-marked-elements-of-a-list)"
   ]
  },
  {
   "cell_type": "code",
   "execution_count": 1,
   "metadata": {},
   "outputs": [
    {
     "ename": "IndentationError",
     "evalue": "unexpected indent (<ipython-input-1-754d06be8db8>, line 2)",
     "output_type": "error",
     "traceback": [
      "\u001b[0;36m  File \u001b[0;32m\"<ipython-input-1-754d06be8db8>\"\u001b[0;36m, line \u001b[0;32m2\u001b[0m\n\u001b[0;31m    self.values_list = values_list\u001b[0m\n\u001b[0m    ^\u001b[0m\n\u001b[0;31mIndentationError\u001b[0m\u001b[0;31m:\u001b[0m unexpected indent\n"
     ]
    }
   ],
   "source": [
    "         self.integer_list = integer_list\n",
    "        self.values_list = values_list\n",
    "        removed_list = integer_list.remove(values_list)\n",
    "        print(f'The original list is {integer_list}')\n",
    "        print(f'The list containing the integers to be removed is )\n",
    "        return [f'The list after removal is the follwing {removed_list}']"
   ]
  },
  {
   "cell_type": "code",
   "execution_count": null,
   "metadata": {},
   "outputs": [],
   "source": [
    "class List(object):\n",
    "    def count_spec_digits(self, integers_list, digits_list):\n",
    "        # your code here\n",
    "        return [(digits_list[0],integers_list.count(digits_list[0])), (digits_list[1],integers_list.count(digits_list[1]), (digits_list[2],integers_list.count(digits_list[2])]\n",
    "    "
   ]
  },
  {
   "cell_type": "code",
   "execution_count": null,
   "metadata": {},
   "outputs": [],
   "source": [
    " return [(l for l in digits_list, integers_list.count(digits_list[l])"
   ]
  },
  {
   "cell_type": "code",
   "execution_count": null,
   "metadata": {},
   "outputs": [],
   "source": [
    "return [(digits_list[0],integers_list.count(0)), (digits_list[1],integers_list.count(1)), (digits_list[2],integers_list.count(2))]"
   ]
  },
  {
   "cell_type": "code",
   "execution_count": null,
   "metadata": {},
   "outputs": [],
   "source": [
    "  digit = n for n in digits_list\n",
    "        occurences = integers_list.count(digits_list[n])\n",
    "        \n",
    "         return [(digit, occurences) for n in digits_list]"
   ]
  },
  {
   "cell_type": "code",
   "execution_count": 7,
   "metadata": {},
   "outputs": [
    {
     "ename": "NameError",
     "evalue": "name 'az' is not defined",
     "output_type": "error",
     "traceback": [
      "\u001b[0;31m---------------------------------------------------------------------------\u001b[0m",
      "\u001b[0;31mNameError\u001b[0m                                 Traceback (most recent call last)",
      "\u001b[0;32m<ipython-input-7-01e413d98d3a>\u001b[0m in \u001b[0;36m<module>\u001b[0;34m\u001b[0m\n\u001b[0;32m----> 1\u001b[0;31m \u001b[0mcharacter\u001b[0m \u001b[0;34m=\u001b[0m \u001b[0;34m'abracadabra'\u001b[0m\u001b[0;34m.\u001b[0m\u001b[0msplit\u001b[0m\u001b[0;34m(\u001b[0m\u001b[0;34m[\u001b[0m\u001b[0maz\u001b[0m\u001b[0;34m]\u001b[0m\u001b[0;34m)\u001b[0m\u001b[0;34m\u001b[0m\u001b[0;34m\u001b[0m\u001b[0m\n\u001b[0m\u001b[1;32m      2\u001b[0m \u001b[0mprint\u001b[0m\u001b[0;34m(\u001b[0m\u001b[0mcharacter\u001b[0m\u001b[0;34m)\u001b[0m\u001b[0;34m\u001b[0m\u001b[0;34m\u001b[0m\u001b[0m\n",
      "\u001b[0;31mNameError\u001b[0m: name 'az' is not defined"
     ]
    }
   ],
   "source": [
    "character = 'abracadabra'.split()\n",
    "print(character)"
   ]
  },
  {
   "cell_type": "code",
   "execution_count": null,
   "metadata": {},
   "outputs": [],
   "source": [
    "class List(object):\n",
    "    @staticmethod\n",
    "    def count_spec_digits(integers_list, digits_list):\n",
    "        counts = Counter(''.join(str(abs(a)) for a in integers_list))\n",
    "        return [(b, counts[str(b)]) for b in digits_list]"
   ]
  },
  {
   "cell_type": "code",
   "execution_count": null,
   "metadata": {},
   "outputs": [],
   "source": [
    "class List(object):\n",
    "    def count_spec_digits(self, integers_list, digits_list):\n",
    "        # your code here\n",
    "        counts = Counter(''.join(str(abs(a)) for a in integers_list))\n",
    "        return [(b, counts[str(b)]) for b in digits_list]"
   ]
  }
 ],
 "metadata": {
  "kernelspec": {
   "display_name": "Python 3",
   "language": "python",
   "name": "python3"
  },
  "language_info": {
   "codemirror_mode": {
    "name": "ipython",
    "version": 3
   },
   "file_extension": ".py",
   "mimetype": "text/x-python",
   "name": "python",
   "nbconvert_exporter": "python",
   "pygments_lexer": "ipython3",
   "version": "3.7.7"
  }
 },
 "nbformat": 4,
 "nbformat_minor": 4
}
